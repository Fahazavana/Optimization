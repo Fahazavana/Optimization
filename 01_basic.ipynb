{
 "cells": [
  {
   "cell_type": "markdown",
   "metadata": {},
   "source": [
    "# Introduction"
   ]
  },
  {
   "cell_type": "markdown",
   "metadata": {
    "vscode": {
     "languageId": "plaintext"
    }
   },
   "source": [
    "## Optimization problem"
   ]
  },
  {
   "cell_type": "markdown",
   "metadata": {
    "vscode": {
     "languageId": "plaintext"
    }
   },
   "source": [
    "Mathematically, an optimization problem have the following form:\n",
    "\n",
    "$$\\begin{align*}\n",
    "\\text{Minimize  \\ }~~ & f(x)\\\\\n",
    "\\text{Subject to } ~~& h_i(x)=0, i=1,\\ldots, n\\\\\n",
    "& g_j(x)\\leq 0, j=1, \\ldots, p \\\\\n",
    "& x \\in \\Omega\\\\\n",
    "\\end{align*}$$\n",
    "\n",
    "or\n",
    "$$\\begin{align*}\n",
    "\\text{Maximize  \\ }~~ & f(x)\\\\\n",
    "\\text{Subject to } ~~& h_i(x)=0, i=1,\\ldots, n\\\\\n",
    "& g_j(x)\\leq 0, j=1, \\ldots, p \\\\\n",
    "& x \\in \\Omega\\\\\n",
    "\\end{align*}$$\n",
    "\n",
    "Where $f:\\Omega \\longrightarrow \\mathbb{R}$, with $\\Omega \\subset \\mathbb{R}$.\n",
    "* $f$ is called the Objective function.\n",
    "* $h_i$ and $h_j$ are called constrain.\n",
    "* $x\\in \\Omega$ the feasible region.\n",
    "\n",
    " Note, that a maximization problem ca be transformed into a minimization problem by considering $-f(x)$.\n"
   ]
  },
  {
   "cell_type": "markdown",
   "metadata": {
    "vscode": {
     "languageId": "plaintext"
    }
   },
   "source": [
    "## Some definitions"
   ]
  },
  {
   "cell_type": "markdown",
   "metadata": {},
   "source": [
    "Let $\\Omega \\subset  \\mathbb{E}^n$, and $f$ a continous function over $\\mathbb{R}$.\n",
    "\n",
    "**Local minima**\n",
    "\n",
    "A point $\\mathbf{x}^*\\in \\Omega$ is a  relative minimum or local minimum point of $f$ over $\\Omega$, if there  exist $\\epsilon >0$  such that $f(\\mathbf{x})\\geq f(\\mathbf{x}^*)$ for all $\\mathbf{x}$ in $\\Omega$ within a distance $\\epsilon$ of $\\mathbf{x}^*$."
   ]
  },
  {
   "cell_type": "markdown",
   "metadata": {},
   "source": [
    "**Global minima**\n",
    "\n",
    "A point $\\mathbf{x}^*\\in \\Omega$ is a  global minimum point of $f$ over $\\Omega$, if $f(\\mathbf{x})\\geq f(\\mathbf{x}^*)$ for all $\\mathbf{x}$ in $\\Omega$ within a distance $\\epsilon$ of $x^*$."
   ]
  },
  {
   "cell_type": "markdown",
   "metadata": {},
   "source": [
    "**Feasible direction**\n",
    "\n",
    "Let $\\mathbf{x}\\in\\Omega$,  $\\mathbf{d} \\in \\mathbb{E}^n$ is a feasible direction at $\\mathbf{x}$, if there exist an $\\bar{\\alpha}>0$ such that $\\mathbf{x} + \\alpha \\mathbf{d}\\in \\Omega$, for all $0 \\leq \\alpha\\leq\\bar{\\mathbf{\\alpha}}$."
   ]
  },
  {
   "cell_type": "markdown",
   "metadata": {
    "vscode": {
     "languageId": "plaintext"
    }
   },
   "source": [
    "**Convex function**"
   ]
  },
  {
   "cell_type": "markdown",
   "metadata": {
    "vscode": {
     "languageId": "plaintext"
    }
   },
   "source": [
    "## Basic properties"
   ]
  },
  {
   "cell_type": "markdown",
   "metadata": {
    "vscode": {
     "languageId": "plaintext"
    }
   },
   "source": []
  }
 ],
 "metadata": {
  "language_info": {
   "name": "python"
  }
 },
 "nbformat": 4,
 "nbformat_minor": 2
}
