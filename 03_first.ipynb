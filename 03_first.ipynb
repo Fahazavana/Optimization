{
 "cells": [
  {
   "cell_type": "markdown",
   "metadata": {},
   "source": [
    "# First-order Optimization"
   ]
  },
  {
   "cell_type": "markdown",
   "metadata": {},
   "source": [
    "We have seen previously, some gradient free methods to fing the local minima of a function. Now, let us we will use gradien to find these local minima, and see some criterion for these particular points."
   ]
  },
  {
   "cell_type": "markdown",
   "metadata": {},
   "source": [
    "___\n",
    "**First-Order Necessary Condition**\n",
    "\n",
    "Let $\\Omega \\subset  \\mathbb{E}^n$, and $f\\in \\mathcal{C}^1$ be a function on $\\Omega$. If $\\mathbf{x}^*$ is a relative minimum point of $f$ over $\\Omega$, then for any feasible direction $\\mathbf{d}\\in \\mathbb{E}^n$, we have $\\nabla f(\\mathbf{x}^*)\\mathbf{d}\\geq 0$.\n",
    "\n",
    "Therefore we can deduct, the following fact.\n",
    "\n",
    "\n",
    "**First-Order Necessary Condition (Unconstrained case)**\n",
    "\n",
    "Let $\\Omega \\subset  \\mathbb{E}^n$, and $f\\in \\mathcal{C}^1$ be a function on $\\Omega$. If $\\mathbf{x}^*$ is a relative minimum point of $f$ over $\\Omega$ and if $\\mathbf{x}$ is an interior point of $\\Omega$, then  $\\nabla f(\\mathbf{x}^*) = 0$.\n",
    "\n",
    "\n",
    "**First-Order Sufficient Condition**\n",
    "\n",
    "Let $f\\in \\mathcal{C}^1$ be a _convex function_ on $\\mathbb{E}^n$. If $\\nabla f(\\mathbf{x}^*) = 0$ then $\\mathbf{x}^*$ is a global minimizer of $f$.\n",
    "\n",
    "___"
   ]
  },
  {
   "cell_type": "markdown",
   "metadata": {},
   "source": [
    "In the case of convexe function, we have a necessary and sufficient condtion to to decide if a given ppoint is a minima or not. So in general case if the function is twice differentiable we can use other condition based on the second derivative."
   ]
  },
  {
   "cell_type": "markdown",
   "metadata": {},
   "source": [
    "___\n",
    "**Second-Order Necessary Condition**\n",
    "\n",
    "Let $\\Omega \\subset  \\mathbb{E}^n$, and $f\\in \\mathcal{C}^2$ be a function on $\\Omega$. If $\\mathbf{x}^*$ is a relative minimum point of $f$ over $\\Omega$, then for any feasible direction $\\mathbf{d}\\in\\mathbb{E}^n$ at $\\mathbf{x}^*$ we have:\n",
    "* $\\nabla f(\\mathbf{x}^*) \\geq 0$ \n",
    "* if $\\nabla f(\\mathbf{x}^*) = 0, \\text{ then } \\mathbf{d}^\\top \\nabla^2 f(\\mathbf{x}^*)\\mathbf{d}\\geq 0$ \n",
    "\n",
    "**Second-Order Necessary Condition (Unconstrained case)**\n",
    "\n",
    "Let $\\Omega \\subset  \\mathbb{E}^n$, and $f\\in \\mathcal{C}^2$ be a function on $\\Omega$. If $\\mathbf{x}^*$ is a relative minimum point of $f$ over $\\Omega$, then \n",
    "* $\\nabla f(\\mathbf{x}^*) = 0$ \n",
    "\n",
    "* $\\forall \\mathbf{d}, \\quad \\mathbf{d}^\\top\\nabla^2 f(\\mathbf{x}^*)\\mathbf{d}\\geq 0$ \n",
    "\n",
    "\n",
    "**Second-Order Sufficient Condition (Unconstrained case)**\n",
    "\n",
    "Let $\\Omega \\subset  \\mathbb{E}^n$, and $f\\in \\mathcal{C}^2$ be a function on $\\Omega$. If $\\mathbf{x}^*$ is an interior point of $\\Omega$, and :\n",
    "* $\\nabla f(\\mathbf{x}^*) = 0$ \n",
    "* $\\nabla^2 f(\\mathbf{x}^*)$ is positive definite\n",
    "\n",
    "Then $\\mathbf{x}^*$ is a strict relative minimum point of $f$.\n",
    "___"
   ]
  }
 ],
 "metadata": {
  "language_info": {
   "name": "python"
  }
 },
 "nbformat": 4,
 "nbformat_minor": 2
}
